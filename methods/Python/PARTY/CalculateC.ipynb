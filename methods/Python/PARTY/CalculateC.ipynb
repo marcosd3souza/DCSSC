{
 "cells": [
  {
   "cell_type": "code",
   "execution_count": 1,
   "metadata": {
    "collapsed": false
   },
   "outputs": [],
   "source": [
    "from sp import getSparcityPrior\n",
    "from dsc import DeepSubspaceClustering\n",
    "import scipy.io as sio\n",
    "\n",
    "# ourdata = sio.loadmat(\"/Users/xupeng.tong/Documents/Data/OriginalData/B_mean_2labels.mat\")\n",
    "ourdata = sio.loadmat(\"/Volumes/TONY/Regeneron/Data/OriginalData/B_mean_2labels.mat\")\n",
    "\n",
    "inputX = ourdata['X']\n",
    "# inputX = normalize(inputX, axis=0)\n",
    "inputY = ourdata['Y'][0,:]\n",
    "columnNames = ourdata['columnNames']\n",
    "\n",
    "# getSparcityPrior(inputX, lambda1=0.01, lambda2=10)"
   ]
  },
  {
   "cell_type": "code",
   "execution_count": null,
   "metadata": {
    "collapsed": false
   },
   "outputs": [],
   "source": [
    "import numpy as np\n",
    "\n",
    "data = np.random.rand(20,10)\n",
    "# 20 samples 10 features"
   ]
  },
  {
   "cell_type": "code",
   "execution_count": 4,
   "metadata": {
    "collapsed": false
   },
   "outputs": [],
   "source": [
    "from sp_blitzl1 import sparseCoefRecovery\n",
    "\n",
    "# C = sparseCoefRecovery(inputX.T, l=0.01)\n",
    "\n",
    "# np.save(\"C_inputX\", C)"
   ]
  },
  {
   "cell_type": "code",
   "execution_count": 3,
   "metadata": {
    "collapsed": true
   },
   "outputs": [],
   "source": [
    "import numpy as np\n",
    "\n",
    "np.save(\"C_inputX\", C)"
   ]
  },
  {
   "cell_type": "code",
   "execution_count": null,
   "metadata": {
    "collapsed": false
   },
   "outputs": [],
   "source": [
    "import numpy as np\n",
    "from smop.homo import SolveHomotopy\n",
    "\n",
    "STOPPING_TIME = -2 ;\n",
    "STOPPING_GROUND_TRUTH = -1;\n",
    "STOPPING_DUALITY_GAP = 1;\n",
    "STOPPING_SPARSE_SUPPORT = 2;\n",
    "STOPPING_OBJECTIVE_VALUE = 3;\n",
    "STOPPING_SUBGRADIENT = 4;\n",
    "\n",
    "maxTime = 8;\n",
    "\n",
    "data = np.random.rand(20,10)\n",
    "\n",
    "A, b = np.matrix(data[:, 1:]), np.matrix(data[:,1]).T\n",
    "\n",
    "x = np.matrix(np.zeros((data.shape[1]-1, 1)))\n",
    "SolveHomotopy(A, b, 'stoppingCriterion', STOPPING_TIME, 'groundTruth', x, 'maxtime', maxTime, 'maxiteration', 1e6)"
   ]
  },
  {
   "cell_type": "code",
   "execution_count": null,
   "metadata": {
    "collapsed": false
   },
   "outputs": [],
   "source": [
    "import blitzl1\n",
    "import numpy as np\n",
    "\n",
    "\n",
    "A, b = np.matrix(inputX[:, 1:]), np.matrix(inputX[:,1]).T\n",
    "\n",
    "prob = blitzl1.LogRegProblem(A, b)\n",
    "lammax = prob.compute_lambda_max()\n",
    "sol = prob.solve(0.001 * lammax)\n",
    "len(sol.x[sol.x!=0])\n",
    "\n",
    "\n",
    "# from sp_cvx import sparseCoefRecovery\n",
    "# from solveHomotopy import SolveHomotopy\n",
    "# from sklearn.decomposition import sparse_encode\n",
    "# from sklearn.linear_model import LassoLars\n",
    "# from sklearn.linear_model import Lasso\n",
    "# from sklearn.linear_model import Lars\n",
    "\n",
    "# # C = sparse_encode(data, data)\n",
    "\n",
    "# lars = Lars()\n",
    "\n",
    "# # inputX_T = inputX.T\n",
    "\n",
    "# lars.fit(A, b)\n",
    "\n",
    "# # if i > 1:\n",
    "# #         C[:i-1,i] = c_val[:i-1]\n",
    "# #     if i < n:\n",
    "# #         C[i+1:n,i] = c_val[i:n]\n",
    "# #     C[i,i] = 0\n",
    "\n",
    "# print len(lars.coef_[lars.coef_!=0])"
   ]
  },
  {
   "cell_type": "code",
   "execution_count": null,
   "metadata": {
    "collapsed": false
   },
   "outputs": [],
   "source": []
  },
  {
   "cell_type": "code",
   "execution_count": null,
   "metadata": {
    "collapsed": false
   },
   "outputs": [],
   "source": []
  },
  {
   "cell_type": "code",
   "execution_count": null,
   "metadata": {
    "collapsed": true
   },
   "outputs": [],
   "source": []
  },
  {
   "cell_type": "code",
   "execution_count": null,
   "metadata": {
    "collapsed": false
   },
   "outputs": [],
   "source": [
    "sol.x"
   ]
  },
  {
   "cell_type": "code",
   "execution_count": null,
   "metadata": {
    "collapsed": false
   },
   "outputs": [],
   "source": [
    "np.matrix(b).T"
   ]
  },
  {
   "cell_type": "code",
   "execution_count": null,
   "metadata": {
    "collapsed": false
   },
   "outputs": [],
   "source": [
    "print A.T.shape"
   ]
  },
  {
   "cell_type": "code",
   "execution_count": null,
   "metadata": {
    "collapsed": false
   },
   "outputs": [],
   "source": [
    "(A.T*b).shape"
   ]
  },
  {
   "cell_type": "code",
   "execution_count": null,
   "metadata": {
    "collapsed": false
   },
   "outputs": [],
   "source": [
    "data.shape[1]-1"
   ]
  },
  {
   "cell_type": "code",
   "execution_count": null,
   "metadata": {
    "collapsed": false
   },
   "outputs": [],
   "source": [
    "np.delete(data,(1),axis=0).shape"
   ]
  },
  {
   "cell_type": "code",
   "execution_count": null,
   "metadata": {
    "collapsed": false
   },
   "outputs": [],
   "source": [
    "np.delete(data, (1), axis=1).shape"
   ]
  },
  {
   "cell_type": "code",
   "execution_count": null,
   "metadata": {
    "collapsed": false
   },
   "outputs": [],
   "source": [
    "from mlabwrap import mlab"
   ]
  },
  {
   "cell_type": "code",
   "execution_count": null,
   "metadata": {
    "collapsed": false
   },
   "outputs": [],
   "source": [
    "# C = getSparcityPrior(inputX, lambda1=0.01, lambda2=0.1, epochs=100, print_step=1)"
   ]
  }
 ],
 "metadata": {
  "kernelspec": {
   "display_name": "Python 2",
   "language": "python",
   "name": "python2"
  },
  "language_info": {
   "codemirror_mode": {
    "name": "ipython",
    "version": 2
   },
   "file_extension": ".py",
   "mimetype": "text/x-python",
   "name": "python",
   "nbconvert_exporter": "python",
   "pygments_lexer": "ipython2",
   "version": "2.7.11"
  }
 },
 "nbformat": 4,
 "nbformat_minor": 0
}
