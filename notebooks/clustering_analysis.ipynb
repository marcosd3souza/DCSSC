{
 "cells": [
  {
   "cell_type": "code",
   "execution_count": 1,
   "metadata": {},
   "outputs": [],
   "source": [
    "import pandas as pd\n",
    "import numpy as np\n",
    "import matplotlib.pyplot as plt\n",
    "from scipy import stats\n",
    "from scipy.spatial.distance import pdist\n",
    "from sklearn.metrics import pairwise_distances\n",
    "from scipy.sparse import *\n",
    "import networkx as nx\n",
    "import community as community_louvain\n",
    "from sklearn.metrics.cluster import adjusted_rand_score\n",
    "from sklearn.metrics.cluster import v_measure_score\n",
    "from sklearn.metrics import accuracy_score\n",
    "from sklearn.cluster import KMeans\n",
    "from sklearn.neighbors import kneighbors_graph\n",
    "from sklearn import metrics\n",
    "from scipy import sparse\n",
    "from sklearn.metrics import mean_squared_error\n",
    "from sklearn.decomposition import NMF\n",
    "from sklearn.preprocessing import MinMaxScaler\n",
    "from numpy import linalg as LA\n",
    "import numpy.matlib\n",
    "import glob\n",
    "import cv2\n",
    "from matplotlib import rcParams\n",
    "import random\n",
    "\n",
    "from sklearn.metrics import davies_bouldin_score\n",
    "\n",
    "from sklearn.metrics import balanced_accuracy_score\n",
    "from sklearn.metrics.cluster import adjusted_mutual_info_score\n",
    "from sklearn.metrics.cluster import completeness_score\n",
    "\n",
    "from scipy.ndimage import gaussian_filter\n",
    "\n",
    "from sklearn import random_projection\n",
    "import collections"
   ]
  },
  {
   "cell_type": "code",
   "execution_count": 33,
   "metadata": {},
   "outputs": [],
   "source": [
    "from scipy.ndimage import gaussian_filter\n",
    "from tensorflow.keras.models import Model\n",
    "from tensorflow.keras.layers import Input\n",
    "from tensorflow.keras.layers import Dense\n",
    "from tensorflow.keras.layers import LeakyReLU\n",
    "from tensorflow.keras.layers import BatchNormalization"
   ]
  },
  {
   "cell_type": "code",
   "execution_count": 3,
   "metadata": {},
   "outputs": [],
   "source": [
    "# data_path_root = 'https://raw.githubusercontent.com/marcosd3souza/FSMethodology/master/train_datasets/'\n",
    "# data_path = data_path_root + 'nci9_dataset.csv'\n",
    "\n",
    "def read_data(name, data_sep=' ', has_labels=True):\n",
    "    data_path =  f'/media/marcos/DATA/datasets/preprocessed/{name}.csv'\n",
    "\n",
    "    data = pd.read_csv(data_path, data_sep)\n",
    "#     data = data.sample(frac = 1)\n",
    "    \n",
    "    X = data\n",
    "    y = []\n",
    "    if has_labels:\n",
    "        y = data['Y']\n",
    "        X = data.drop(['Y'], axis=1)\n",
    "        print(len(np.unique(y)))\n",
    "        \n",
    "    print(X.shape)\n",
    "    \n",
    "    return X, y\n",
    "\n",
    "# dataset_name = 'pixraw10P'\n",
    "# X, y = read_data(dataset_name)"
   ]
  },
  {
   "cell_type": "code",
   "execution_count": 4,
   "metadata": {},
   "outputs": [],
   "source": [
    "def encoder_data(X, enconder_size=100):\n",
    "    n_inputs = X.shape[1]\n",
    "    # define encoder\n",
    "    visible = Input(shape=(n_inputs,))\n",
    "    # encoder level 1\n",
    "    e = Dense(n_inputs*2)(visible)\n",
    "    e = BatchNormalization()(e)\n",
    "    e = LeakyReLU()(e)\n",
    "    # encoder level 2\n",
    "    e = Dense(n_inputs)(e)\n",
    "    e = BatchNormalization()(e)\n",
    "    e = LeakyReLU()(e)\n",
    "    # bottleneck\n",
    "    n_bottleneck = enconder_size\n",
    "    bottleneck = Dense(n_bottleneck)(e)\n",
    "    encoder = Model(inputs=visible, outputs=bottleneck)\n",
    "    X_encoded = encoder.predict(X)\n",
    "    \n",
    "    return X_encoded"
   ]
  },
  {
   "cell_type": "code",
   "execution_count": 13,
   "metadata": {},
   "outputs": [],
   "source": [
    "def show_labeled_images (clustering, images_filenames):\n",
    "    labels = np.unique(clustering)\n",
    "    \n",
    "    for label in labels:\n",
    "        print('cluster: ', label)\n",
    "        images_index = np.where(clustering == label)[0]\n",
    "        \n",
    "        label_paths = np.array(images_filenames)[images_index]\n",
    "        objs = [p.split('/')[-1].split('__')[0] for p in label_paths]\n",
    "\n",
    "        print('counter: ', collections.Counter(objs))\n",
    "        \n",
    "        images_index = images_index[0:20]\n",
    "\n",
    "        %matplotlib inline\n",
    "\n",
    "        rcParams['figure.figsize'] = 25 ,25\n",
    "\n",
    "        images_to_show = []\n",
    "\n",
    "        for file_index in images_index:\n",
    "            images_to_show.append(images_filenames[file_index])\n",
    "\n",
    "        fig, ax = plt.subplots(1,len(images_to_show))\n",
    "\n",
    "        i = 0\n",
    "        for img_path in images_to_show:\n",
    "            # img = mpimg.imread(img_path)\n",
    "            img = cv2.cvtColor(cv2.imread(img_path), cv2.COLOR_BGR2GRAY)\n",
    "            ax[i].imshow(img, cmap=\"gray\")\n",
    "            i = i + 1\n",
    "        plt.show()"
   ]
  },
  {
   "cell_type": "code",
   "execution_count": 4,
   "metadata": {},
   "outputs": [],
   "source": [
    "def do_laplace_score(X, W):\n",
    "    D = np.array(W.sum(axis=1))\n",
    "    L = W\n",
    "    tmp = np.dot(np.transpose(D), X)\n",
    "    D = diags(np.transpose(D), [0])\n",
    "    Xt = np.transpose(X)\n",
    "    t1 = np.transpose(np.dot(Xt, D.todense()))\n",
    "    t2 = np.transpose(np.dot(Xt, L.todense()))\n",
    "    # compute the numerator of Lr\n",
    "    D_prime = np.sum(np.multiply(t1, X), 0) - np.multiply(tmp, tmp)/D.sum()\n",
    "    # compute the denominator of Lr\n",
    "    L_prime = np.sum(np.multiply(t2, X), 0) - np.multiply(tmp, tmp)/D.sum()\n",
    "    # avoid the denominator of Lr to be 0\n",
    "    D_prime[D_prime < 1e-12] = 10000\n",
    "\n",
    "    # compute laplacian score for all features\n",
    "    score = 1 - np.array(np.multiply(L_prime, 1/D_prime))[0, :]\n",
    "    return np.transpose(score)\n",
    "\n",
    "def construct_S(X, k=5, metric='cosine'):\n",
    "    D = pairwise_distances(X, metric=metric)\n",
    "    D **= 2\n",
    "    np.fill_diagonal(D, 1)\n",
    "#     D = pairwise_distances(X, metric=lambda a, b : mean_squared_error(a, b))\n",
    "    n_samples = X.shape[0]\n",
    "    # sort the distance matrix D in ascending order\n",
    "#     dump = np.sort(D, axis=1)\n",
    "    idx = np.argsort(D, axis=1)\n",
    "    # choose the k-nearest neighbors for each instance\n",
    "    idx_new = idx[:, 0:k+1]\n",
    "#     dump_new = dump[:, 0:k+1]\n",
    "    # compute the pairwise heat kernel distances\n",
    "#     dump_heat_kernel = np.exp(-dump_new/2)\n",
    "    G = np.zeros((n_samples*(k+1), 3))\n",
    "    G[:, 0] = np.tile(np.arange(n_samples), (k+1, 1)).reshape(-1)\n",
    "    G[:, 1] = np.ravel(idx_new, order='F')\n",
    "    G[:, 2] = 1\n",
    "#     G[:, 2] = np.ravel(dump_heat_kernel, order='F')\n",
    "    # build the sparse affinity matrix W\n",
    "    W = csc_matrix((G[:, 2], (G[:, 0], G[:, 1])), shape=(n_samples, n_samples))\n",
    "    bigger = np.transpose(W) > W\n",
    "    W = W - W.multiply(bigger) + np.transpose(W).multiply(bigger)\n",
    "    \n",
    "    return W"
   ]
  },
  {
   "cell_type": "code",
   "execution_count": 9,
   "metadata": {},
   "outputs": [],
   "source": [
    "def construct_spectral_info(W):\n",
    "    n_samples = W.shape[0]\n",
    "    # build the degree matrix\n",
    "    X_sum = np.array(W.sum(axis=1))\n",
    "    D = np.zeros((n_samples, n_samples))\n",
    "    for i in range(n_samples):\n",
    "        D[i, i] = X_sum[i]\n",
    "\n",
    "    # build the laplacian matrix\n",
    "    L = D - W\n",
    "    d1 = np.power(np.array(W.sum(axis=1)), -0.5)\n",
    "    d1[np.isinf(d1)] = 0\n",
    "    d2 = np.power(np.array(W.sum(axis=1)), 0.5)\n",
    "    v = np.dot(np.diag(d2[:, 0]), np.ones(n_samples))\n",
    "    v = v/LA.norm(v)\n",
    "\n",
    "    # build the normalized laplacian matrix\n",
    "    L_hat = (np.matlib.repmat(d1, 1, n_samples)) * np.array(L) * np.matlib.repmat(np.transpose(d1), n_samples, 1)\n",
    "\n",
    "    # calculate and construct spectral information\n",
    "    vals, vecs = np.linalg.eig(L_hat)\n",
    "    vals = np.flipud(vals)\n",
    "    vecs = np.fliplr(vecs)\n",
    "    \n",
    "    return vals, vecs"
   ]
  },
  {
   "cell_type": "code",
   "execution_count": 5,
   "metadata": {},
   "outputs": [],
   "source": [
    "def evaluate(clustering, y):\n",
    "    \n",
    "    acc = accuracy_score(y, clustering)\n",
    "    cr = adjusted_rand_score(y, clustering)\n",
    "    comp = completeness_score(y, clustering)\n",
    "    nmi = v_measure_score(y, clustering)\n",
    "#     ami = adjusted_mutual_info_score(y, clustering)\n",
    "    \n",
    "#     b_acc = balanced_accuracy_score(y, clustering)\n",
    "\n",
    "#     print('acc: ', acc)\n",
    "#     print('balanced acc: ', b_acc)\n",
    "    print('completeness: ', comp)\n",
    "    print('cr: ', cr)\n",
    "    print('nmi: ', nmi)\n",
    "#     print('ami: ', ami)"
   ]
  },
  {
   "cell_type": "code",
   "execution_count": 6,
   "metadata": {},
   "outputs": [],
   "source": [
    "def get_clustering(S, X):\n",
    "    G = nx.from_numpy_array(S)\n",
    "    partition = community_louvain.best_partition(G, resolution=1.0, randomize=False)\n",
    "\n",
    "    clustering = []\n",
    "    for key, value in partition.items():\n",
    "    #     v.setdefault(key, set()).add(value)\n",
    "        clustering.append(value)\n",
    "\n",
    "    # G = nx.adjacency_matrix(best_S)\n",
    "    # G = nx.from_numpy_matrix(S_arry)\n",
    "    print('n_clusters: ', len(np.unique(clustering)))\n",
    "    \n",
    "    avg_sil = metrics.silhouette_score(X, clustering, metric='cosine')\n",
    "#     db = davies_bouldin_score(X, clustering)\n",
    "    \n",
    "    print('sil: ', avg_sil)\n",
    "#     print('davies_bouldin: ', db)\n",
    "    \n",
    "#     nx.draw(G, with_labels=True, font_weight='bold')\n",
    "#     plt.show()\n",
    "    \n",
    "    return clustering"
   ]
  },
  {
   "cell_type": "code",
   "execution_count": 198,
   "metadata": {},
   "outputs": [
    {
     "name": "stderr",
     "output_type": "stream",
     "text": [
      "/home/marcos/anaconda3/lib/python3.7/site-packages/ipykernel_launcher.py:1: FutureWarning: In a future version of pandas all arguments of read_csv except for the argument 'filepath_or_buffer' will be keyword-only\n",
      "  \"\"\"Entry point for launching an IPython kernel.\n"
     ]
    },
    {
     "name": "stdout",
     "output_type": "stream",
     "text": [
      "2\n",
      "(72, 7129)\n"
     ]
    }
   ],
   "source": [
    "X, y = read_data('ALLAML', data_sep=' ')"
   ]
  },
  {
   "cell_type": "code",
   "execution_count": 193,
   "metadata": {},
   "outputs": [
    {
     "data": {
      "text/plain": [
       "(1440, 1024)"
      ]
     },
     "execution_count": 193,
     "metadata": {},
     "output_type": "execute_result"
    }
   ],
   "source": [
    "data_path =  f'/media/marcos/DATA/datasets/preprocessed/COIL20.mat'\n",
    "\n",
    "from scipy.io import loadmat\n",
    "annots = loadmat(data_path)\n",
    "X = pd.DataFrame(annots['X'])\n",
    "y = pd.DataFrame(annots['Y']).values.ravel()\n",
    "\n",
    "# data = pd.read_csv(data_path, ' ')\n",
    "# data.descibe()\n",
    "X.shape"
   ]
  },
  {
   "cell_type": "code",
   "execution_count": 210,
   "metadata": {
    "scrolled": false
   },
   "outputs": [
    {
     "name": "stdout",
     "output_type": "stream",
     "text": [
      "init loss:  105.65620500870814\n",
      "best loss:  0.0407508084485854\n",
      "n iter:  5\n",
      "n_clusters:  27\n",
      "sil:  0.78349784833602\n",
      "CPU times: user 1min 18s, sys: 700 ms, total: 1min 19s\n",
      "Wall time: 19.8 s\n"
     ]
    }
   ],
   "source": [
    "%%time\n",
    "\n",
    "def get_S(data):\n",
    "    n_neighbors = 5\n",
    "    model = NMF(n_components=30, init='random', random_state=0, max_iter=5000)    \n",
    "    \n",
    "    S = construct_S(data, n_neighbors)\n",
    "    model.fit_transform(S)\n",
    "\n",
    "    old_loss = model.reconstruction_err_\n",
    "    print('init loss: ', old_loss)\n",
    "\n",
    "    T = 30\n",
    "    best_loss = 999999999999999\n",
    "    old_loss = 999999999999999\n",
    "    best_S = S\n",
    "    best_X = None\n",
    "    tol = 0.0001\n",
    "    \n",
    "    loss_rate = []\n",
    "\n",
    "    for t in range(T):\n",
    "        # a decomposição comprime os dados de entrada\n",
    "        # logo as características mais relevantes (vizinhança forte)\n",
    "        # tende a persistir nos dados comprimidos\n",
    "        # e os detalhes menos relevantes da matriz de similaridade\n",
    "        # tendem a desaparecer\n",
    "        \n",
    "        W = model.fit_transform(S)\n",
    "        H = model.components_\n",
    "        loss = model.reconstruction_err_\n",
    "\n",
    "        loss_rate.append(loss)\n",
    "        if (loss > old_loss) or abs(old_loss - loss) <= tol:\n",
    "            break\n",
    "\n",
    "        if loss < best_loss:\n",
    "            best_loss = loss\n",
    "            best_S = construct_S(W.dot(H), n_neighbors)\n",
    "            \n",
    "            vals, vecs = construct_spectral_info(best_S)\n",
    "            idx = np.argsort(vals.real)\n",
    "            best_X = vecs[:, idx[0:20]].real\n",
    "\n",
    "        old_loss = loss\n",
    "        \n",
    "        S = gaussian_filter(W.dot(H), sigma=2)\n",
    "\n",
    "    print('best loss: ', best_loss)\n",
    "    print('n iter: ', t)\n",
    "    \n",
    "    return best_S, best_X\n",
    "\n",
    "\n",
    "# X_new = _reduce(X)\n",
    "\n",
    "S, X_new = get_S(X)\n",
    "S = S.toarray()\n",
    "\n",
    "# plt.plot(range(0, len(loss_rate)), loss_rate)\n",
    "# S = construct_S(X_new, n_neighbors).toarray()\n",
    "\n",
    "clustering = get_clustering(S, X_new)"
   ]
  },
  {
   "cell_type": "code",
   "execution_count": 204,
   "metadata": {},
   "outputs": [
    {
     "name": "stdout",
     "output_type": "stream",
     "text": [
      "completeness:  0.3216417813881774\n",
      "cr:  0.25119071814734595\n",
      "nmi:  0.47108976962976845\n"
     ]
    },
    {
     "data": {
      "image/png": "[encoded data removed]",
      "text/plain": [
       "<Figure size 360x360 with 1 Axes>"
      ]
     },
     "metadata": {
      "needs_background": "light"
     },
     "output_type": "display_data"
    },
    {
     "data": {
      "image/png": "[encoded data removed]",
      "text/plain": [
       "<Figure size 360x360 with 1 Axes>"
      ]
     },
     "metadata": {
      "needs_background": "light"
     },
     "output_type": "display_data"
    }
   ],
   "source": [
    "evaluate(clustering, y)\n",
    "\n",
    "rcParams['figure.figsize'] = 5,5\n",
    "_ = plt.imshow(S, cmap='hot', interpolation='nearest')\n",
    "plt.show()\n",
    "\n",
    "# G = nx.from_numpy_array(S)\n",
    "# nx.draw(G, with_labels=True, font_weight='bold')\n",
    "# plt.show()\n",
    "\n",
    "s, n, _ = plt.hist(clustering)\n",
    "for i in range(len(s)):\n",
    "    plt.annotate(s[i], xy=(n[i],s[i]), ha='center', va='bottom')\n",
    "    \n",
    "plt.show()"
   ]
  },
  {
   "cell_type": "code",
   "execution_count": 16,
   "metadata": {},
   "outputs": [],
   "source": [
    "clustering = np.array([[i+1] * 72 for i in range(20)]).ravel()"
   ]
  },
  {
   "cell_type": "code",
   "execution_count": null,
   "metadata": {
    "scrolled": false
   },
   "outputs": [],
   "source": [
    "img_path_root = '/media/marcos/DATA/datasets/preprocessed/coil-20/'\n",
    "image_paths = np.array([[f'{img_path_root}obj{i}__{j}.png' for j in range(72)] for i in range(1, 21)]).ravel()\n",
    "\n",
    "image_paths = list(image_paths)\n",
    "\n",
    "show_labeled_images(clustering, image_paths)"
   ]
  },
  {
   "cell_type": "markdown",
   "metadata": {},
   "source": [
    "# Experiments on Datasets (medium complexity)"
   ]
  },
  {
   "cell_type": "code",
   "execution_count": 211,
   "metadata": {
    "scrolled": false
   },
   "outputs": [
    {
     "name": "stdout",
     "output_type": "stream",
     "text": [
      "###########################################################################################\n",
      "dataset:  warpAR10P\n",
      "10\n",
      "(130, 2400)\n",
      "init loss:  19.403578683764344\n"
     ]
    },
    {
     "name": "stderr",
     "output_type": "stream",
     "text": [
      "/home/marcos/anaconda3/lib/python3.7/site-packages/ipykernel_launcher.py:18: FutureWarning: In a future version of pandas all arguments of read_csv except for the argument 'filepath_or_buffer' will be keyword-only\n"
     ]
    },
    {
     "name": "stdout",
     "output_type": "stream",
     "text": [
      "best loss:  0.011089822565863118\n",
      "n iter:  4\n"
     ]
    },
    {
     "data": {
      "image/png": "[encoded data removed]",
      "text/plain": [
       "<Figure size 360x360 with 1 Axes>"
      ]
     },
     "metadata": {
      "needs_background": "light"
     },
     "output_type": "display_data"
    },
    {
     "name": "stdout",
     "output_type": "stream",
     "text": [
      "n_clusters:  10\n",
      "sil:  0.4155376217227588\n",
      "completeness:  0.7826828630577944\n",
      "cr:  0.6123865110246434\n",
      "nmi:  0.7802539965622358\n",
      "###########################################################################################\n",
      "dataset:  warpPIE10P\n",
      "10\n",
      "(210, 2420)\n",
      "init loss:  23.906126445744825\n"
     ]
    },
    {
     "name": "stderr",
     "output_type": "stream",
     "text": [
      "/home/marcos/anaconda3/lib/python3.7/site-packages/ipykernel_launcher.py:18: FutureWarning: In a future version of pandas all arguments of read_csv except for the argument 'filepath_or_buffer' will be keyword-only\n"
     ]
    },
    {
     "name": "stdout",
     "output_type": "stream",
     "text": [
      "best loss:  0.03468002843207904\n",
      "n iter:  2\n"
     ]
    },
    {
     "data": {
      "image/png": "[encoded data removed]",
      "text/plain": [
       "<Figure size 360x360 with 1 Axes>"
      ]
     },
     "metadata": {
      "needs_background": "light"
     },
     "output_type": "display_data"
    },
    {
     "name": "stdout",
     "output_type": "stream",
     "text": [
      "n_clusters:  10\n",
      "sil:  0.4904963312834992\n",
      "completeness:  0.9572494429482967\n",
      "cr:  0.9236394030089788\n",
      "nmi:  0.9556860121378389\n",
      "###########################################################################################\n",
      "dataset:  pixraw10P\n"
     ]
    },
    {
     "name": "stderr",
     "output_type": "stream",
     "text": [
      "/home/marcos/anaconda3/lib/python3.7/site-packages/ipykernel_launcher.py:18: FutureWarning: In a future version of pandas all arguments of read_csv except for the argument 'filepath_or_buffer' will be keyword-only\n"
     ]
    },
    {
     "name": "stdout",
     "output_type": "stream",
     "text": [
      "10\n",
      "(100, 10000)\n",
      "init loss:  10.404306468181673\n",
      "best loss:  0.0054372771623379945\n",
      "n iter:  16\n"
     ]
    },
    {
     "data": {
      "image/png": "[encoded data removed]",
      "text/plain": [
       "<Figure size 360x360 with 1 Axes>"
      ]
     },
     "metadata": {
      "needs_background": "light"
     },
     "output_type": "display_data"
    },
    {
     "name": "stdout",
     "output_type": "stream",
     "text": [
      "n_clusters:  8\n",
      "sil:  0.28844435288124803\n",
      "completeness:  0.8400235362281061\n",
      "cr:  0.6097015650821425\n",
      "nmi:  0.7942520280373276\n",
      "###########################################################################################\n",
      "dataset:  orlraws10P\n"
     ]
    },
    {
     "name": "stderr",
     "output_type": "stream",
     "text": [
      "/home/marcos/anaconda3/lib/python3.7/site-packages/ipykernel_launcher.py:18: FutureWarning: In a future version of pandas all arguments of read_csv except for the argument 'filepath_or_buffer' will be keyword-only\n"
     ]
    },
    {
     "name": "stdout",
     "output_type": "stream",
     "text": [
      "10\n",
      "(100, 10304)\n",
      "init loss:  11.10769187853964\n",
      "best loss:  0.0073688970386938755\n",
      "n iter:  13\n"
     ]
    },
    {
     "data": {
      "image/png": "[encoded data removed]",
      "text/plain": [
       "<Figure size 360x360 with 1 Axes>"
      ]
     },
     "metadata": {
      "needs_background": "light"
     },
     "output_type": "display_data"
    },
    {
     "name": "stdout",
     "output_type": "stream",
     "text": [
      "n_clusters:  8\n",
      "sil:  0.29802153478875737\n",
      "completeness:  0.7959955250946253\n",
      "cr:  0.5230097732232659\n",
      "nmi:  0.7487856395556219\n",
      "###########################################################################################\n",
      "dataset:  nci9\n"
     ]
    },
    {
     "name": "stderr",
     "output_type": "stream",
     "text": [
      "/home/marcos/anaconda3/lib/python3.7/site-packages/ipykernel_launcher.py:18: FutureWarning: In a future version of pandas all arguments of read_csv except for the argument 'filepath_or_buffer' will be keyword-only\n"
     ]
    },
    {
     "name": "stdout",
     "output_type": "stream",
     "text": [
      "9\n",
      "(60, 9712)\n",
      "init loss:  7.988372851987027\n",
      "best loss:  0.005346880647381366\n",
      "n iter:  5\n"
     ]
    },
    {
     "data": {
      "image/png": "[encoded data removed]",
      "text/plain": [
       "<Figure size 360x360 with 1 Axes>"
      ]
     },
     "metadata": {
      "needs_background": "light"
     },
     "output_type": "display_data"
    },
    {
     "name": "stdout",
     "output_type": "stream",
     "text": [
      "n_clusters:  6\n",
      "sil:  0.2451147172387632\n",
      "completeness:  0.7496534726158897\n",
      "cr:  0.48044235101372107\n",
      "nmi:  0.6785387996044504\n",
      "###########################################################################################\n",
      "dataset:  Carcinom\n"
     ]
    },
    {
     "name": "stderr",
     "output_type": "stream",
     "text": [
      "/home/marcos/anaconda3/lib/python3.7/site-packages/ipykernel_launcher.py:18: FutureWarning: In a future version of pandas all arguments of read_csv except for the argument 'filepath_or_buffer' will be keyword-only\n"
     ]
    },
    {
     "name": "stdout",
     "output_type": "stream",
     "text": [
      "11\n",
      "(174, 9182)\n",
      "init loss:  23.649050437266062\n",
      "best loss:  0.011396570173898916\n",
      "n iter:  8\n"
     ]
    },
    {
     "data": {
      "image/png": "[encoded data removed]",
      "text/plain": [
       "<Figure size 360x360 with 1 Axes>"
      ]
     },
     "metadata": {
      "needs_background": "light"
     },
     "output_type": "display_data"
    },
    {
     "name": "stdout",
     "output_type": "stream",
     "text": [
      "n_clusters:  11\n",
      "sil:  0.43337440441923447\n",
      "completeness:  0.5925847870038543\n",
      "cr:  0.36161687479971716\n",
      "nmi:  0.6054696397913022\n",
      "###########################################################################################\n",
      "dataset:  TOX171\n"
     ]
    },
    {
     "name": "stderr",
     "output_type": "stream",
     "text": [
      "/home/marcos/anaconda3/lib/python3.7/site-packages/ipykernel_launcher.py:18: FutureWarning: In a future version of pandas all arguments of read_csv except for the argument 'filepath_or_buffer' will be keyword-only\n"
     ]
    },
    {
     "name": "stdout",
     "output_type": "stream",
     "text": [
      "4\n",
      "(171, 5748)\n",
      "init loss:  24.624381516553647\n",
      "best loss:  0.01073063177607514\n",
      "n iter:  7\n"
     ]
    },
    {
     "data": {
      "image/png": "[encoded data removed]",
      "text/plain": [
       "<Figure size 360x360 with 1 Axes>"
      ]
     },
     "metadata": {
      "needs_background": "light"
     },
     "output_type": "display_data"
    },
    {
     "name": "stdout",
     "output_type": "stream",
     "text": [
      "n_clusters:  9\n",
      "sil:  0.35573011052128706\n",
      "completeness:  0.608818641137468\n",
      "cr:  0.5265078525804548\n",
      "nmi:  0.7432944910593204\n",
      "###########################################################################################\n",
      "dataset:  ALLAML\n"
     ]
    },
    {
     "name": "stderr",
     "output_type": "stream",
     "text": [
      "/home/marcos/anaconda3/lib/python3.7/site-packages/ipykernel_launcher.py:18: FutureWarning: In a future version of pandas all arguments of read_csv except for the argument 'filepath_or_buffer' will be keyword-only\n"
     ]
    },
    {
     "name": "stdout",
     "output_type": "stream",
     "text": [
      "2\n",
      "(72, 7129)\n",
      "init loss:  10.413653520328529\n",
      "best loss:  0.005873756507700837\n",
      "n iter:  4\n"
     ]
    },
    {
     "data": {
      "image/png": "[encoded data removed]",
      "text/plain": [
       "<Figure size 360x360 with 1 Axes>"
      ]
     },
     "metadata": {
      "needs_background": "light"
     },
     "output_type": "display_data"
    },
    {
     "name": "stdout",
     "output_type": "stream",
     "text": [
      "n_clusters:  6\n",
      "sil:  0.25216540084682393\n",
      "completeness:  0.26836317002650484\n",
      "cr:  0.22182874984821133\n",
      "nmi:  0.392557579347823\n",
      "###########################################################################################\n",
      "dataset:  ProstateGE\n"
     ]
    },
    {
     "name": "stderr",
     "output_type": "stream",
     "text": [
      "/home/marcos/anaconda3/lib/python3.7/site-packages/ipykernel_launcher.py:18: FutureWarning: In a future version of pandas all arguments of read_csv except for the argument 'filepath_or_buffer' will be keyword-only\n"
     ]
    },
    {
     "name": "stdout",
     "output_type": "stream",
     "text": [
      "2\n",
      "(102, 5966)\n",
      "init loss:  14.682901535616734\n",
      "best loss:  0.009531568199659434\n",
      "n iter:  4\n"
     ]
    },
    {
     "data": {
      "image/png": "[encoded data removed]",
      "text/plain": [
       "<Figure size 360x360 with 1 Axes>"
      ]
     },
     "metadata": {
      "needs_background": "light"
     },
     "output_type": "display_data"
    },
    {
     "name": "stdout",
     "output_type": "stream",
     "text": [
      "n_clusters:  9\n",
      "sil:  0.3641798757376595\n",
      "completeness:  0.30903955184522014\n",
      "cr:  0.22709939401910326\n",
      "nmi:  0.4672487101878543\n",
      "###########################################################################################\n",
      "dataset:  isolet\n",
      "26\n",
      "(1560, 617)\n"
     ]
    },
    {
     "name": "stderr",
     "output_type": "stream",
     "text": [
      "/home/marcos/anaconda3/lib/python3.7/site-packages/ipykernel_launcher.py:18: FutureWarning: In a future version of pandas all arguments of read_csv except for the argument 'filepath_or_buffer' will be keyword-only\n"
     ]
    },
    {
     "name": "stdout",
     "output_type": "stream",
     "text": [
      "init loss:  105.65620500870814\n",
      "best loss:  0.0407508084485854\n",
      "n iter:  5\n"
     ]
    },
    {
     "data": {
      "image/png": "[encoded data removed]",
      "text/plain": [
       "<Figure size 360x360 with 1 Axes>"
      ]
     },
     "metadata": {
      "needs_background": "light"
     },
     "output_type": "display_data"
    },
    {
     "name": "stdout",
     "output_type": "stream",
     "text": [
      "n_clusters:  27\n",
      "sil:  0.78349784833602\n",
      "completeness:  0.8996761420534191\n",
      "cr:  0.7905841172802622\n",
      "nmi:  0.9019824598586915\n",
      "CPU times: user 1min 58s, sys: 1.12 s, total: 1min 59s\n",
      "Wall time: 33.2 s\n"
     ]
    }
   ],
   "source": [
    "%%time\n",
    "datasets = [\n",
    "    'warpAR10P', \n",
    "    'warpPIE10P', \n",
    "    'pixraw10P', \n",
    "    'orlraws10P', \n",
    "    'nci9', \n",
    "    'Carcinom', \n",
    "    'TOX171', \n",
    "    'ALLAML', \n",
    "    'ProstateGE', \n",
    "    'isolet',\n",
    "#     'breast_cancer'\n",
    "]\n",
    "\n",
    "for dataset_name in datasets:\n",
    "    print('###########################################################################################')\n",
    "    print('dataset: ', dataset_name)\n",
    "    X, y = read_data(dataset_name, data_sep=' ')\n",
    "    \n",
    "    S, X_new = get_S(X)\n",
    "    S = S.toarray()\n",
    "\n",
    "#     G = nx.from_numpy_array(S)\n",
    "#     nx.draw(G, with_labels=True, font_weight='bold')\n",
    "#     plt.show()\n",
    "\n",
    "    rcParams['figure.figsize'] = 5,5\n",
    "    _ = plt.imshow(S, cmap='hot', interpolation='nearest')\n",
    "    plt.show()\n",
    "    \n",
    "    clustering = get_clustering(S, X_new)\n",
    "    \n",
    "    evaluate(clustering, y)"
   ]
  },
  {
   "cell_type": "code",
   "execution_count": 130,
   "metadata": {
    "scrolled": false
   },
   "outputs": [
    {
     "name": "stdout",
     "output_type": "stream",
     "text": [
      "###########################################################################################\n",
      "dataset:  GLI_85\n"
     ]
    },
    {
     "name": "stderr",
     "output_type": "stream",
     "text": [
      "/home/marcos/anaconda3/lib/python3.7/site-packages/ipykernel_launcher.py:10: FutureWarning: In a future version of pandas all arguments of read_csv except for the argument 'filepath_or_buffer' will be keyword-only\n",
      "  # Remove the CWD from sys.path while we load stuff.\n"
     ]
    },
    {
     "name": "stdout",
     "output_type": "stream",
     "text": [
      "2\n",
      "(85, 22283)\n",
      "init loss:  1.4148326254826575\n",
      "best loss:  0.007426001329376213\n",
      "n iter:  5\n"
     ]
    },
    {
     "data": {
      "image/png": "[encoded data removed]",
      "text/plain": [
       "<Figure size 360x360 with 1 Axes>"
      ]
     },
     "metadata": {
      "needs_background": "light"
     },
     "output_type": "display_data"
    },
    {
     "name": "stdout",
     "output_type": "stream",
     "text": [
      "n_clusters:  6\n",
      "sil:  0.23681329549759708\n",
      "completeness:  0.34536129251774533\n",
      "cr:  0.30294696004170024\n",
      "nmi:  0.5045508823216297\n",
      "###########################################################################################\n",
      "dataset:  SMK_CAN\n"
     ]
    },
    {
     "name": "stderr",
     "output_type": "stream",
     "text": [
      "/home/marcos/anaconda3/lib/python3.7/site-packages/ipykernel_launcher.py:10: FutureWarning: In a future version of pandas all arguments of read_csv except for the argument 'filepath_or_buffer' will be keyword-only\n",
      "  # Remove the CWD from sys.path while we load stuff.\n"
     ]
    },
    {
     "name": "stdout",
     "output_type": "stream",
     "text": [
      "2\n",
      "(187, 19993)\n",
      "init loss:  15.612642149273173\n",
      "best loss:  0.12943349549384947\n",
      "n iter:  3\n"
     ]
    },
    {
     "data": {
      "image/png": "[encoded data removed]",
      "text/plain": [
       "<Figure size 360x360 with 1 Axes>"
      ]
     },
     "metadata": {
      "needs_background": "light"
     },
     "output_type": "display_data"
    },
    {
     "name": "stdout",
     "output_type": "stream",
     "text": [
      "n_clusters:  7\n",
      "sil:  0.22386422629098202\n",
      "completeness:  0.09130647603115637\n",
      "cr:  0.06295890602576118\n",
      "nmi:  0.13340746234229478\n",
      "CPU times: user 3min 29s, sys: 1.72 s, total: 3min 31s\n",
      "Wall time: 1min 1s\n"
     ]
    }
   ],
   "source": [
    "%%time\n",
    "datasets = [\n",
    "    'GLI_85',\n",
    "    'SMK_CAN',\n",
    "#     'ELD_2011_2014'\n",
    "]\n",
    "\n",
    "for dataset_name in datasets:\n",
    "    print('###########################################################################################')\n",
    "    print('dataset: ', dataset_name)\n",
    "    X, y = read_data(dataset_name)\n",
    "    \n",
    "    S, X_new = get_S(X)\n",
    "    S = S.toarray()\n",
    "\n",
    "    rcParams['figure.figsize'] = 5,5\n",
    "    _ = plt.imshow(S, cmap='hot', interpolation='nearest')\n",
    "    plt.show()\n",
    "    \n",
    "    clustering = get_clustering(S, X_new)\n",
    "    \n",
    "    evaluate(clustering, y)"
   ]
  }
 ],
 "metadata": {
  "kernelspec": {
   "display_name": "Python 3 (ipykernel)",
   "language": "python",
   "name": "python3"
  },
  "language_info": {
   "codemirror_mode": {
    "name": "ipython",
    "version": 3
   },
   "file_extension": ".py",
   "mimetype": "text/x-python",
   "name": "python",
   "nbconvert_exporter": "python",
   "pygments_lexer": "ipython3",
   "version": "3.9.7"
  }
 },
 "nbformat": 4,
 "nbformat_minor": 2
}
