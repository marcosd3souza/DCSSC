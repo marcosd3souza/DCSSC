{
 "cells": [
  {
   "cell_type": "code",
   "execution_count": 1,
   "id": "d69db82c",
   "metadata": {},
   "outputs": [],
   "source": [
    "import pandas as pd\n",
    "import numpy as np\n",
    "import matplotlib.pyplot as plt\n",
    "\n",
    "from sklearn.metrics import pairwise_distances\n",
    "import networkx as nx\n",
    "import community as community_louvain\n",
    "from sklearn.cluster import KMeans, SpectralClustering\n",
    "\n",
    "from sklearn.neighbors import kneighbors_graph\n",
    "from sklearn.preprocessing import MinMaxScaler\n",
    "from sklearn.model_selection import train_test_split\n",
    "\n",
    "from tensorflow.keras.models import Model\n",
    "from tensorflow.keras.layers import Input\n",
    "from tensorflow.keras.layers import Dense\n",
    "from tensorflow.keras.layers import LeakyReLU\n",
    "from tensorflow.keras.layers import BatchNormalization\n",
    "\n",
    "from sklearn.metrics import balanced_accuracy_score, silhouette_score, confusion_matrix\n",
    "\n",
    "from sklearn.metrics.cluster import normalized_mutual_info_score, \\\n",
    "                                    adjusted_mutual_info_score, \\\n",
    "                                    v_measure_score, \\\n",
    "                                    adjusted_rand_score\n",
    "\n",
    "from scipy.optimize import linear_sum_assignment as linear_assignment\n",
    "\n",
    "from sklearn.manifold import TSNE\n",
    "\n",
    "from sklearn_som.som import SOM"
   ]
  },
  {
   "cell_type": "code",
   "execution_count": 2,
   "id": "cfbabfb9",
   "metadata": {},
   "outputs": [],
   "source": [
    "def cluster_acc(y_true, y_pred):\n",
    "    cm = confusion_matrix(y_true, y_pred)\n",
    "    _make_cost_m = lambda x:-x + np.max(x)\n",
    "    indexes = linear_assignment(_make_cost_m(cm))\n",
    "    indexes = np.concatenate([indexes[0][:,np.newaxis],indexes[1][:,np.newaxis]], axis=-1)\n",
    "    js = [e[1] for e in sorted(indexes, key=lambda x: x[0])]\n",
    "    cm2 = cm[:, js]\n",
    "    acc = np.trace(cm2) / np.sum(cm2)\n",
    "    return acc"
   ]
  },
  {
   "cell_type": "code",
   "execution_count": 3,
   "id": "fc6efac6",
   "metadata": {},
   "outputs": [],
   "source": [
    "def read_data(name, data_sep=' ', has_labels=True):\n",
    "    data_path =  f'/media/marcos/DATA/datasets/preprocessed/{name}.csv'\n",
    "\n",
    "    data = pd.read_csv(data_path, data_sep)\n",
    "#     data = data.sample(frac = 1)\n",
    "    \n",
    "    X = data\n",
    "    y = []\n",
    "    if has_labels:\n",
    "        y = data['Y']\n",
    "        X = data.drop(['Y'], axis=1)\n",
    "        print(len(np.unique(y)))\n",
    "        \n",
    "    print(X.shape)\n",
    "    \n",
    "    return X, y"
   ]
  },
  {
   "cell_type": "code",
   "execution_count": 4,
   "id": "2968e3ab",
   "metadata": {},
   "outputs": [],
   "source": [
    "def get_clustering(S, X):\n",
    "    G = nx.from_numpy_array(S)\n",
    "    partition = community_louvain.best_partition(G, resolution=1.0, randomize=False)\n",
    "\n",
    "    clustering = []\n",
    "    for key, value in partition.items():\n",
    "        clustering.append(value)\n",
    "\n",
    "    print('n_clusters: ', len(np.unique(clustering)))\n",
    "    \n",
    "    avg_sil = silhouette_score(X, clustering, metric='euclidean')\n",
    "    \n",
    "    print('sil: ', avg_sil)\n",
    "    \n",
    "    return clustering"
   ]
  },
  {
   "cell_type": "code",
   "execution_count": 5,
   "id": "dffc62b0",
   "metadata": {},
   "outputs": [],
   "source": [
    "def encoder_data(X, X_train, X_test, encoder_size=100):\n",
    "    n_inputs = X.shape[1]\n",
    "    # define encoder\n",
    "    visible = Input(shape=(n_inputs,))\n",
    "    # encoder level 1\n",
    "    e = Dense(int(n_inputs/10))(visible)\n",
    "    e = BatchNormalization()(e)\n",
    "    e = LeakyReLU()(e)\n",
    "    # encoder level 2\n",
    "    e = Dense(int(n_inputs/20))(e)\n",
    "    e = BatchNormalization()(e)\n",
    "    e = LeakyReLU()(e)\n",
    "    # bottleneck\n",
    "    n_bottleneck = encoder_size\n",
    "    bottleneck = Dense(n_bottleneck)(e)\n",
    "#     # define decoder, level 1\n",
    "#     d = Dense(int(n_inputs/10))(bottleneck)\n",
    "#     d = BatchNormalization()(d)\n",
    "#     d = LeakyReLU()(d)\n",
    "#     # decoder level 2\n",
    "#     d = Dense(int(n_inputs/20))(d)\n",
    "#     d = BatchNormalization()(d)\n",
    "#     d = LeakyReLU()(d)\n",
    "    \n",
    "#     # output layer\n",
    "#     output = Dense(n_inputs, activation='linear')(d)\n",
    "#     # define autoencoder model\n",
    "#     model = Model(inputs=visible, outputs=output)\n",
    "#     # compile autoencoder model\n",
    "#     model.compile(optimizer='adam', loss='mse')\n",
    "    \n",
    "#     history = model.fit(\n",
    "#         X_train, X_train, \n",
    "#         epochs=20, \n",
    "#         batch_size=16, \n",
    "#         verbose=2, \n",
    "#         validation_data=(X_test,X_test)\n",
    "#     )\n",
    "    \n",
    "    model = Model(inputs=visible, outputs=bottleneck)\n",
    "    \n",
    "#     model.compile(optimizer='adam', loss='mse')\n",
    "    \n",
    "#     history = model.fit(\n",
    "#         X_train, X_train, \n",
    "#         epochs=20, \n",
    "#         batch_size=16, \n",
    "#         verbose=2, \n",
    "#         validation_data=(X_test,X_test)\n",
    "#     )\n",
    "    \n",
    "    X_encoded = model.predict(X)\n",
    "    \n",
    "    return X_encoded"
   ]
  },
  {
   "cell_type": "code",
   "execution_count": 17,
   "id": "6a4b76f9",
   "metadata": {
    "scrolled": true
   },
   "outputs": [
    {
     "name": "stderr",
     "output_type": "stream",
     "text": [
      "/tmp/ipykernel_8355/470971451.py:1: FutureWarning: In a future version of pandas all arguments of read_csv except for the argument 'filepath_or_buffer' will be keyword-only\n",
      "  X, y = read_data('SMK_CAN', data_sep=' ')\n"
     ]
    },
    {
     "name": "stdout",
     "output_type": "stream",
     "text": [
      "2\n",
      "(187, 19993)\n"
     ]
    }
   ],
   "source": [
    "X, y = read_data('SMK_CAN', data_sep=' ')\n",
    "\n",
    "X_train, X_test, y_train, y_test = train_test_split(X, y, test_size=0.33, random_state=1)\n",
    "\n",
    "t = MinMaxScaler()\n",
    "t.fit(X_train)\n",
    "X_train = t.transform(X_train)\n",
    "X_test = t.transform(X_test)\n",
    "\n",
    "X_encoded = encoder_data(X, X_train, X_test, encoder_size=10)"
   ]
  },
  {
   "cell_type": "code",
   "execution_count": 18,
   "id": "a2dcfdaa",
   "metadata": {
    "scrolled": false
   },
   "outputs": [
    {
     "data": {
      "image/png": "[encoded data removed]",
      "text/plain": [
       "<Figure size 432x288 with 1 Axes>"
      ]
     },
     "metadata": {
      "needs_background": "light"
     },
     "output_type": "display_data"
    },
    {
     "name": "stdout",
     "output_type": "stream",
     "text": [
      "n_clusters:  12\n",
      "sil:  0.42475563\n",
      "acc:  0.24064171122994651\n",
      "cr:  0.16693556830201056\n",
      "v_meas:  0.4288782145234782\n",
      "nmi:  0.41753552740148514\n"
     ]
    }
   ],
   "source": [
    "X_encoded_sorted = np.sort(X_encoded, axis=0)\n",
    "\n",
    "# pd.DataFrame(X_encoded_sorted)\n",
    "S = kneighbors_graph(X_encoded_sorted, n_neighbors=5)\n",
    "plt.imshow(S.toarray(), cmap='hot', interpolation='nearest')\n",
    "plt.show()\n",
    "\n",
    "clustering = get_clustering(S, X_encoded_sorted)\n",
    "acc = cluster_acc(y, clustering)\n",
    "cr = adjusted_rand_score(y, clustering)\n",
    "v_meas = v_measure_score(y, clustering)\n",
    "nmi = adjusted_mutual_info_score(y, clustering)\n",
    "\n",
    "print('acc: ', acc)\n",
    "print('cr: ', cr)\n",
    "print('v_meas: ', v_meas)\n",
    "print('nmi: ', nmi)"
   ]
  },
  {
   "cell_type": "code",
   "execution_count": 19,
   "id": "2ea5959b",
   "metadata": {},
   "outputs": [
    {
     "name": "stdout",
     "output_type": "stream",
     "text": [
      "n_clusters:  13\n",
      "sil:  0.19923433871019083\n",
      "acc:  0.20320855614973263\n",
      "cr:  0.14403724900294274\n",
      "v_meas:  0.3993314980516346\n",
      "nmi:  0.3865680875524262\n"
     ]
    }
   ],
   "source": [
    "A = kneighbors_graph(X_encoded_sorted, n_neighbors=5).toarray()\n",
    "D = np.diag(A.sum(axis=0))\n",
    "\n",
    "# print(D)\n",
    "\n",
    "L = D - A\n",
    "vals, vecs = np.linalg.eig(L)\n",
    "\n",
    "# sort\n",
    "vecs = vecs[:,np.argsort(vals)]\n",
    "vals = vals[np.argsort(vals)]\n",
    "\n",
    "S = kneighbors_graph(vecs[:,0:4].real, n_neighbors=5)\n",
    "# use Fiedler value to find best cut to separate data\n",
    "# clusters = vecs[:,1] > 0\n",
    "# clusters\n",
    "\n",
    "clustering = get_clustering(S, vecs[:,0:4].real)\n",
    "acc = cluster_acc(y, clustering)\n",
    "cr = adjusted_rand_score(y, clustering)\n",
    "v_meas = v_measure_score(y, clustering)\n",
    "nmi = adjusted_mutual_info_score(y, clustering)\n",
    "\n",
    "print('acc: ', acc)\n",
    "print('cr: ', cr)\n",
    "print('v_meas: ', v_meas)\n",
    "print('nmi: ', nmi)"
   ]
  },
  {
   "cell_type": "code",
   "execution_count": 8,
   "id": "d064fe6c",
   "metadata": {},
   "outputs": [
    {
     "data": {
      "image/png": "[encoded data removed]",
      "text/plain": [
       "<Figure size 432x288 with 1 Axes>"
      ]
     },
     "metadata": {
      "needs_background": "light"
     },
     "output_type": "display_data"
    },
    {
     "data": {
      "text/plain": [
       "<matplotlib.collections.PathCollection at 0x7f15d6f02280>"
      ]
     },
     "execution_count": 8,
     "metadata": {},
     "output_type": "execute_result"
    },
    {
     "data": {
      "image/png": "[encoded data removed]",
      "text/plain": [
       "<Figure size 432x288 with 1 Axes>"
      ]
     },
     "metadata": {
      "needs_background": "light"
     },
     "output_type": "display_data"
    }
   ],
   "source": [
    "X_embedded = TSNE(n_components=2, learning_rate='auto', init='random', perplexity=3).fit_transform(X_encoded_sorted)\n",
    "plt.scatter(X_embedded[:, 0], X_embedded[:, 1], c=y)\n",
    "plt.show()\n",
    "\n",
    "plt.scatter(X_embedded[:, 0], X_embedded[:, 1], c=clustering)"
   ]
  }
 ],
 "metadata": {
  "kernelspec": {
   "display_name": "Python 3 (ipykernel)",
   "language": "python",
   "name": "python3"
  },
  "language_info": {
   "codemirror_mode": {
    "name": "ipython",
    "version": 3
   },
   "file_extension": ".py",
   "mimetype": "text/x-python",
   "name": "python",
   "nbconvert_exporter": "python",
   "pygments_lexer": "ipython3",
   "version": "3.9.7"
  }
 },
 "nbformat": 4,
 "nbformat_minor": 5
}
